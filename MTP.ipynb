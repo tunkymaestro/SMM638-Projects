{
 "cells": [
  {
   "cell_type": "code",
   "execution_count": 1,
   "metadata": {
    "ExecuteTime": {
     "end_time": "2019-11-10T09:40:24.501443Z",
     "start_time": "2019-11-10T09:40:20.748415Z"
    }
   },
   "outputs": [],
   "source": [
    "import pandas as pd\n",
    "import networkx as nx\n",
    "import cpalgorithm as cp\n",
    "import matplotlib.pyplot as plt"
   ]
  },
  {
   "cell_type": "markdown",
   "metadata": {},
   "source": [
    "## Load Data"
   ]
  },
  {
   "cell_type": "code",
   "execution_count": 2,
   "metadata": {
    "ExecuteTime": {
     "end_time": "2019-11-10T09:40:29.888781Z",
     "start_time": "2019-11-10T09:40:29.781809Z"
    }
   },
   "outputs": [],
   "source": [
    "\"\"\"\n",
    "- These algorithms focus on real-world data concerning Facebook large page-page network.\n",
    "\n",
    "- It is an one-mode, undirected, unweighted network including 22,470 nodes and 171,002 edges. \n",
    "Nodes represent official Facebook pages while the edges are mutual likes between sites.\n",
    "\n",
    "- For further details about the data refer to the database: \n",
    "http://snap.stanford.edu/data/facebook-large-page-page-network.html\n",
    "\"\"\"\n",
    "\n",
    "# read data from csv.file\n",
    "df = pd.read_csv('facebook.csv')"
   ]
  },
  {
   "cell_type": "code",
   "execution_count": 3,
   "metadata": {
    "ExecuteTime": {
     "end_time": "2019-11-10T09:40:32.183499Z",
     "start_time": "2019-11-10T09:40:32.159151Z"
    },
    "scrolled": true
   },
   "outputs": [
    {
     "data": {
      "text/html": [
       "<div>\n",
       "<style scoped>\n",
       "    .dataframe tbody tr th:only-of-type {\n",
       "        vertical-align: middle;\n",
       "    }\n",
       "\n",
       "    .dataframe tbody tr th {\n",
       "        vertical-align: top;\n",
       "    }\n",
       "\n",
       "    .dataframe thead th {\n",
       "        text-align: right;\n",
       "    }\n",
       "</style>\n",
       "<table border=\"1\" class=\"dataframe\">\n",
       "  <thead>\n",
       "    <tr style=\"text-align: right;\">\n",
       "      <th></th>\n",
       "      <th>id_1</th>\n",
       "      <th>id_2</th>\n",
       "    </tr>\n",
       "  </thead>\n",
       "  <tbody>\n",
       "    <tr>\n",
       "      <td>0</td>\n",
       "      <td>0</td>\n",
       "      <td>18427</td>\n",
       "    </tr>\n",
       "    <tr>\n",
       "      <td>1</td>\n",
       "      <td>1</td>\n",
       "      <td>21708</td>\n",
       "    </tr>\n",
       "    <tr>\n",
       "      <td>2</td>\n",
       "      <td>1</td>\n",
       "      <td>22208</td>\n",
       "    </tr>\n",
       "    <tr>\n",
       "      <td>3</td>\n",
       "      <td>1</td>\n",
       "      <td>22171</td>\n",
       "    </tr>\n",
       "    <tr>\n",
       "      <td>4</td>\n",
       "      <td>1</td>\n",
       "      <td>6829</td>\n",
       "    </tr>\n",
       "  </tbody>\n",
       "</table>\n",
       "</div>"
      ],
      "text/plain": [
       "   id_1   id_2\n",
       "0     0  18427\n",
       "1     1  21708\n",
       "2     1  22208\n",
       "3     1  22171\n",
       "4     1   6829"
      ]
     },
     "execution_count": 3,
     "metadata": {},
     "output_type": "execute_result"
    }
   ],
   "source": [
    "# preview data\n",
    "df.head()"
   ]
  },
  {
   "cell_type": "code",
   "execution_count": 4,
   "metadata": {
    "ExecuteTime": {
     "end_time": "2019-11-10T09:40:35.351964Z",
     "start_time": "2019-11-10T09:40:35.340057Z"
    }
   },
   "outputs": [
    {
     "data": {
      "text/plain": [
       "id_1    int64\n",
       "id_2    int64\n",
       "dtype: object"
      ]
     },
     "execution_count": 4,
     "metadata": {},
     "output_type": "execute_result"
    }
   ],
   "source": [
    "# check types of all columns\n",
    "df.dtypes"
   ]
  },
  {
   "cell_type": "code",
   "execution_count": 5,
   "metadata": {
    "ExecuteTime": {
     "end_time": "2019-11-10T09:40:39.312386Z",
     "start_time": "2019-11-10T09:40:38.595984Z"
    }
   },
   "outputs": [
    {
     "data": {
      "text/plain": [
       "id_1    object\n",
       "id_2    object\n",
       "dtype: object"
      ]
     },
     "execution_count": 5,
     "metadata": {},
     "output_type": "execute_result"
    }
   ],
   "source": [
    "# convert types of all columns from int to object\n",
    "df1 = df.apply(lambda x: x.astype(str))\n",
    "\n",
    "# recheck types of all columns\n",
    "df1.dtypes"
   ]
  },
  {
   "cell_type": "code",
   "execution_count": 6,
   "metadata": {
    "ExecuteTime": {
     "end_time": "2019-11-10T09:40:41.696768Z",
     "start_time": "2019-11-10T09:40:41.050051Z"
    }
   },
   "outputs": [],
   "source": [
    "# load network from pandas\n",
    "G = nx.from_pandas_edgelist(df1, 'id_1', 'id_2')"
   ]
  },
  {
   "cell_type": "markdown",
   "metadata": {},
   "source": [
    "## Borgatti and Everett Algorithm"
   ]
  },
  {
   "cell_type": "code",
   "execution_count": 9,
   "metadata": {
    "ExecuteTime": {
     "end_time": "2019-11-10T10:05:03.976825Z",
     "start_time": "2019-11-10T10:03:25.830143Z"
    },
    "scrolled": true
   },
   "outputs": [
    {
     "data": {
      "text/html": [
       "<div>\n",
       "<style scoped>\n",
       "    .dataframe tbody tr th:only-of-type {\n",
       "        vertical-align: middle;\n",
       "    }\n",
       "\n",
       "    .dataframe tbody tr th {\n",
       "        vertical-align: top;\n",
       "    }\n",
       "\n",
       "    .dataframe thead th {\n",
       "        text-align: right;\n",
       "    }\n",
       "</style>\n",
       "<table border=\"1\" class=\"dataframe\">\n",
       "  <thead>\n",
       "    <tr style=\"text-align: right;\">\n",
       "      <th></th>\n",
       "      <th>Node_be</th>\n",
       "    </tr>\n",
       "    <tr>\n",
       "      <th>Coreness</th>\n",
       "      <th></th>\n",
       "    </tr>\n",
       "  </thead>\n",
       "  <tbody>\n",
       "    <tr>\n",
       "      <td>0.0</td>\n",
       "      <td>22081</td>\n",
       "    </tr>\n",
       "    <tr>\n",
       "      <td>1.0</td>\n",
       "      <td>389</td>\n",
       "    </tr>\n",
       "  </tbody>\n",
       "</table>\n",
       "</div>"
      ],
      "text/plain": [
       "          Node_be\n",
       "Coreness         \n",
       "0.0         22081\n",
       "1.0           389"
      ]
     },
     "execution_count": 9,
     "metadata": {},
     "output_type": "execute_result"
    }
   ],
   "source": [
    "# create an object called BE\n",
    "be = cp.BE()\n",
    "\n",
    "# pass the graph to detect() method\n",
    "be.detect(G)\n",
    "\n",
    "# retrive the result of the algorithm\n",
    "c = be.get_pair_id() # community classification\n",
    "x = be.get_coreness() # core-periphery classification\n",
    "\n",
    "# convert dictionary to a dataframe\n",
    "df_be = pd.DataFrame.from_dict(x, orient = 'index', columns = ['Coreness'])\n",
    "\n",
    "# reset index of the dataframe\n",
    "df_be.reset_index(inplace=True)\n",
    "\n",
    "# rename column \n",
    "df_be.rename(columns={'index': 'Node_be'}, inplace=True)\n",
    "\n",
    "# group and count the number of nodes that belong to core and periphery respectively\n",
    "df_be_Count = pd.DataFrame(df_be.groupby('Coreness')['Node_be'].count())\n",
    "\n",
    "# print dataframe\n",
    "df_be_Count"
   ]
  },
  {
   "cell_type": "markdown",
   "metadata": {},
   "source": [
    "## LowRank-Core Algorithm"
   ]
  },
  {
   "cell_type": "code",
   "execution_count": 76,
   "metadata": {
    "ExecuteTime": {
     "end_time": "2019-11-10T19:43:34.679547Z",
     "start_time": "2019-11-10T19:39:42.482491Z"
    }
   },
   "outputs": [
    {
     "data": {
      "text/html": [
       "<div>\n",
       "<style scoped>\n",
       "    .dataframe tbody tr th:only-of-type {\n",
       "        vertical-align: middle;\n",
       "    }\n",
       "\n",
       "    .dataframe tbody tr th {\n",
       "        vertical-align: top;\n",
       "    }\n",
       "\n",
       "    .dataframe thead th {\n",
       "        text-align: right;\n",
       "    }\n",
       "</style>\n",
       "<table border=\"1\" class=\"dataframe\">\n",
       "  <thead>\n",
       "    <tr style=\"text-align: right;\">\n",
       "      <th></th>\n",
       "      <th>Node_lrc</th>\n",
       "    </tr>\n",
       "    <tr>\n",
       "      <th>Coreness</th>\n",
       "      <th></th>\n",
       "    </tr>\n",
       "  </thead>\n",
       "  <tbody>\n",
       "    <tr>\n",
       "      <td>0</td>\n",
       "      <td>20223</td>\n",
       "    </tr>\n",
       "    <tr>\n",
       "      <td>1</td>\n",
       "      <td>2247</td>\n",
       "    </tr>\n",
       "  </tbody>\n",
       "</table>\n",
       "</div>"
      ],
      "text/plain": [
       "          Node_lrc\n",
       "Coreness          \n",
       "0            20223\n",
       "1             2247"
      ]
     },
     "execution_count": 76,
     "metadata": {},
     "output_type": "execute_result"
    }
   ],
   "source": [
    "# create an object called LowRankCore\n",
    "lrc = cp.LowRankCore()\n",
    "\n",
    "# pass the graph to detect() method\n",
    "lrc.detect(G)\n",
    "\n",
    "# retrive the result of the algorithm\n",
    "c1 = lrc.get_pair_id() #community classification\n",
    "x1 = lrc.get_coreness() #core-periphery classification\n",
    "\n",
    "# convert dictionary to a dataframe\n",
    "df_lrc = pd.DataFrame.from_dict(x1, orient = 'index', columns = ['Coreness'])\n",
    "\n",
    "# reset index of the dataframe\n",
    "df_lrc.reset_index(inplace=True)\n",
    "\n",
    "# rename column \n",
    "df_lrc.rename(columns={'index': 'Node_lrc'}, inplace=True)\n",
    "\n",
    "# group and count the number of nodes that belong to core and periphery respectively\n",
    "df_lrc_Count = pd.DataFrame(df_lrc.groupby('Coreness')['Node_lrc'].count())\n",
    "\n",
    "# print dataframe\n",
    "df_lrc_Count"
   ]
  },
  {
   "cell_type": "markdown",
   "metadata": {},
   "source": [
    "## LapSgn-Core Algorithm"
   ]
  },
  {
   "cell_type": "code",
   "execution_count": 78,
   "metadata": {
    "ExecuteTime": {
     "end_time": "2019-11-10T19:52:02.097897Z",
     "start_time": "2019-11-10T19:51:57.353710Z"
    }
   },
   "outputs": [
    {
     "data": {
      "text/html": [
       "<div>\n",
       "<style scoped>\n",
       "    .dataframe tbody tr th:only-of-type {\n",
       "        vertical-align: middle;\n",
       "    }\n",
       "\n",
       "    .dataframe tbody tr th {\n",
       "        vertical-align: top;\n",
       "    }\n",
       "\n",
       "    .dataframe thead th {\n",
       "        text-align: right;\n",
       "    }\n",
       "</style>\n",
       "<table border=\"1\" class=\"dataframe\">\n",
       "  <thead>\n",
       "    <tr style=\"text-align: right;\">\n",
       "      <th></th>\n",
       "      <th>Node_lsc</th>\n",
       "    </tr>\n",
       "    <tr>\n",
       "      <th>Coreness</th>\n",
       "      <th></th>\n",
       "    </tr>\n",
       "  </thead>\n",
       "  <tbody>\n",
       "    <tr>\n",
       "      <td>0.0</td>\n",
       "      <td>11290</td>\n",
       "    </tr>\n",
       "    <tr>\n",
       "      <td>1.0</td>\n",
       "      <td>11180</td>\n",
       "    </tr>\n",
       "  </tbody>\n",
       "</table>\n",
       "</div>"
      ],
      "text/plain": [
       "          Node_lsc\n",
       "Coreness          \n",
       "0.0          11290\n",
       "1.0          11180"
      ]
     },
     "execution_count": 78,
     "metadata": {},
     "output_type": "execute_result"
    }
   ],
   "source": [
    "# create an object called LapSgnCore\n",
    "lsc = cp.LapSgnCore()\n",
    "\n",
    "# pass the graph to detect() method\n",
    "lsc.detect(G)\n",
    "\n",
    "# retrive the result of the algorithm\n",
    "c2 = lsc.get_pair_id() #community classification\n",
    "x2 = lsc.get_coreness() #core-periphery classification\n",
    "\n",
    "# convert dictionary to a dataframe\n",
    "df_lsc = pd.DataFrame.from_dict(x2, orient = 'index', columns = ['Coreness'])\n",
    "\n",
    "# reset index of the dataframe\n",
    "df_lsc.reset_index(inplace=True)\n",
    "\n",
    "# rename column \n",
    "df_lsc.rename(columns={'index': 'Node_lsc'}, inplace=True)\n",
    "\n",
    "# group and count the number of nodes that belong to core and periphery respectively\n",
    "df_lsc_count = pd.DataFrame(df_lsc.groupby('Coreness')['Node_lsc'].count())\n",
    "\n",
    "# print dataframe\n",
    "df_lsc_count"
   ]
  },
  {
   "cell_type": "markdown",
   "metadata": {
    "ExecuteTime": {
     "end_time": "2019-11-09T16:08:02.965728Z",
     "start_time": "2019-11-09T16:08:02.961761Z"
    }
   },
   "source": [
    "## Algorithm Comparison"
   ]
  },
  {
   "cell_type": "code",
   "execution_count": 79,
   "metadata": {
    "ExecuteTime": {
     "end_time": "2019-11-10T19:55:05.803891Z",
     "start_time": "2019-11-10T19:55:05.790497Z"
    }
   },
   "outputs": [
    {
     "data": {
      "text/html": [
       "<div>\n",
       "<style scoped>\n",
       "    .dataframe tbody tr th:only-of-type {\n",
       "        vertical-align: middle;\n",
       "    }\n",
       "\n",
       "    .dataframe tbody tr th {\n",
       "        vertical-align: top;\n",
       "    }\n",
       "\n",
       "    .dataframe thead th {\n",
       "        text-align: right;\n",
       "    }\n",
       "</style>\n",
       "<table border=\"1\" class=\"dataframe\">\n",
       "  <thead>\n",
       "    <tr style=\"text-align: right;\">\n",
       "      <th></th>\n",
       "      <th>Node_be</th>\n",
       "      <th>Node_lrc</th>\n",
       "      <th>Node_lsc</th>\n",
       "    </tr>\n",
       "    <tr>\n",
       "      <th>Coreness</th>\n",
       "      <th></th>\n",
       "      <th></th>\n",
       "      <th></th>\n",
       "    </tr>\n",
       "  </thead>\n",
       "  <tbody>\n",
       "    <tr>\n",
       "      <td>0.0</td>\n",
       "      <td>22081</td>\n",
       "      <td>20223</td>\n",
       "      <td>11290</td>\n",
       "    </tr>\n",
       "    <tr>\n",
       "      <td>1.0</td>\n",
       "      <td>389</td>\n",
       "      <td>2247</td>\n",
       "      <td>11180</td>\n",
       "    </tr>\n",
       "  </tbody>\n",
       "</table>\n",
       "</div>"
      ],
      "text/plain": [
       "          Node_be  Node_lrc  Node_lsc\n",
       "Coreness                             \n",
       "0.0         22081     20223     11290\n",
       "1.0           389      2247     11180"
      ]
     },
     "execution_count": 79,
     "metadata": {},
     "output_type": "execute_result"
    }
   ],
   "source": [
    "# combiene the results of algorithm\n",
    "result = pd.concat([df_be_Count, df_lrc_Count, df_lsc_count], axis=1)\n",
    "result"
   ]
  },
  {
   "cell_type": "code",
   "execution_count": 80,
   "metadata": {
    "ExecuteTime": {
     "end_time": "2019-11-10T19:55:13.664835Z",
     "start_time": "2019-11-10T19:55:13.659408Z"
    }
   },
   "outputs": [],
   "source": [
    "# assign objects to values\n",
    "np_be = result.iloc[0, 0]\n",
    "nc_be = result.iloc[1, 0]\n",
    "np_lrc = result.iloc[0, 1]\n",
    "nc_lrc = result.iloc[1, 1]\n",
    "np_lsc = result.iloc[0, 2]\n",
    "nc_lsc = result.iloc[1, 2]"
   ]
  },
  {
   "cell_type": "code",
   "execution_count": 81,
   "metadata": {
    "ExecuteTime": {
     "end_time": "2019-11-10T19:55:18.334306Z",
     "start_time": "2019-11-10T19:55:18.130688Z"
    }
   },
   "outputs": [
    {
     "data": {
      "image/png": "[encoded data removed]",
      "text/plain": [
       "<Figure size 576x504 with 1 Axes>"
      ]
     },
     "metadata": {
      "needs_background": "light"
     },
     "output_type": "display_data"
    }
   ],
   "source": [
    "# create variables to plot the results\n",
    "core = (nc_be, nc_lrc, nc_lsc)\n",
    "per = (np_be, np_lrc, np_lsc)\n",
    "\n",
    "# params for the visualization\n",
    "c_n = 3\n",
    "c_pos = [0, 1, 2] \n",
    "barWidth = 0.5        \n",
    "\n",
    "# creat framework for the figure\n",
    "fig = plt.figure(figsize = (8, 7))\n",
    "\n",
    "# populate the figure\n",
    "ax = fig.add_subplot(1, 1, 1)\n",
    "\n",
    "# plot the data\n",
    "p1 = ax.bar(ind, core, label='Core', width = barWidth)\n",
    "p2 = ax.bar(ind, per, bottom=core,  label='Periphery', width = barWidth)\n",
    "plt.ylim(0,30000)\n",
    "\n",
    "# axes labels\n",
    "ax.set_xlabel('Algorithm')\n",
    "ax.set_ylabel('Number of Node')\n",
    "\n",
    "# axes ticks\n",
    "ax.set_xticks((0, 1, 2))\n",
    "ax.set_xticklabels(('be','lrc','lsc'))\n",
    "\n",
    "# title\n",
    "ax.set_title(\"Results of Core-periphery Algorithms\", fontsize=16)\n",
    "\n",
    "# legend\n",
    "ax.legend(loc='upper right')\n",
    "\n",
    "# save image\n",
    "plt.savefig('algorithm.jpg')\n",
    "\n",
    "plt.show()"
   ]
  },
  {
   "cell_type": "code",
   "execution_count": null,
   "metadata": {},
   "outputs": [],
   "source": []
  }
 ],
 "metadata": {
  "kernelspec": {
   "display_name": "Python 3",
   "language": "python",
   "name": "python3"
  },
  "language_info": {
   "codemirror_mode": {
    "name": "ipython",
    "version": 3
   },
   "file_extension": ".py",
   "mimetype": "text/x-python",
   "name": "python",
   "nbconvert_exporter": "python",
   "pygments_lexer": "ipython3",
   "version": "3.7.3"
  },
  "toc": {
   "base_numbering": 1,
   "nav_menu": {},
   "number_sections": true,
   "sideBar": true,
   "skip_h1_title": false,
   "title_cell": "Table of Contents",
   "title_sidebar": "Contents",
   "toc_cell": false,
   "toc_position": {},
   "toc_section_display": true,
   "toc_window_display": false
  },
  "varInspector": {
   "cols": {
    "lenName": 16,
    "lenType": 16,
    "lenVar": 40
   },
   "kernels_config": {
    "python": {
     "delete_cmd_postfix": "",
     "delete_cmd_prefix": "del ",
     "library": "var_list.py",
     "varRefreshCmd": "print(var_dic_list())"
    },
    "r": {
     "delete_cmd_postfix": ") ",
     "delete_cmd_prefix": "rm(",
     "library": "var_list.r",
     "varRefreshCmd": "cat(var_dic_list()) "
    }
   },
   "types_to_exclude": [
    "module",
    "function",
    "builtin_function_or_method",
    "instance",
    "_Feature"
   ],
   "window_display": false
  }
 },
 "nbformat": 4,
 "nbformat_minor": 2
}
