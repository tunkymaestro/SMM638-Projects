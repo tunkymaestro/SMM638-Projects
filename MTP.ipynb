{
 "cells": [
  {
   "cell_type": "code",
   "execution_count": 21,
   "metadata": {
    "ExecuteTime": {
     "end_time": "2019-11-08T21:46:53.451197Z",
     "start_time": "2019-11-08T21:46:53.141471Z"
    }
   },
   "outputs": [],
   "source": [
    "import pandas as pd\n",
    "import networkx as nx\n",
    "import cpalgorithm as cpa\n",
    "import matplotlib.pyplot as plt"
   ]
  },
  {
   "cell_type": "code",
   "execution_count": 3,
   "metadata": {
    "ExecuteTime": {
     "end_time": "2019-11-08T21:26:43.590576Z",
     "start_time": "2019-11-08T21:26:43.555755Z"
    }
   },
   "outputs": [],
   "source": [
    "df = pd.read_csv('metabolite.csv', sep=\",\", names=['node1','node2'])"
   ]
  },
  {
   "cell_type": "code",
   "execution_count": 4,
   "metadata": {
    "ExecuteTime": {
     "end_time": "2019-11-08T21:26:43.695625Z",
     "start_time": "2019-11-08T21:26:43.647022Z"
    }
   },
   "outputs": [
    {
     "data": {
      "text/html": [
       "<div>\n",
       "<style scoped>\n",
       "    .dataframe tbody tr th:only-of-type {\n",
       "        vertical-align: middle;\n",
       "    }\n",
       "\n",
       "    .dataframe tbody tr th {\n",
       "        vertical-align: top;\n",
       "    }\n",
       "\n",
       "    .dataframe thead th {\n",
       "        text-align: right;\n",
       "    }\n",
       "</style>\n",
       "<table border=\"1\" class=\"dataframe\">\n",
       "  <thead>\n",
       "    <tr style=\"text-align: right;\">\n",
       "      <th></th>\n",
       "      <th>node1</th>\n",
       "      <th>node2</th>\n",
       "    </tr>\n",
       "  </thead>\n",
       "  <tbody>\n",
       "    <tr>\n",
       "      <td>0</td>\n",
       "      <td>0</td>\n",
       "      <td>496</td>\n",
       "    </tr>\n",
       "    <tr>\n",
       "      <td>1</td>\n",
       "      <td>0</td>\n",
       "      <td>499</td>\n",
       "    </tr>\n",
       "    <tr>\n",
       "      <td>2</td>\n",
       "      <td>0</td>\n",
       "      <td>502</td>\n",
       "    </tr>\n",
       "    <tr>\n",
       "      <td>3</td>\n",
       "      <td>0</td>\n",
       "      <td>504</td>\n",
       "    </tr>\n",
       "    <tr>\n",
       "      <td>4</td>\n",
       "      <td>0</td>\n",
       "      <td>589</td>\n",
       "    </tr>\n",
       "    <tr>\n",
       "      <td>...</td>\n",
       "      <td>...</td>\n",
       "      <td>...</td>\n",
       "    </tr>\n",
       "    <tr>\n",
       "      <td>5797</td>\n",
       "      <td>1037</td>\n",
       "      <td>589</td>\n",
       "    </tr>\n",
       "    <tr>\n",
       "      <td>5798</td>\n",
       "      <td>1037</td>\n",
       "      <td>1034</td>\n",
       "    </tr>\n",
       "    <tr>\n",
       "      <td>5799</td>\n",
       "      <td>1038</td>\n",
       "      <td>249</td>\n",
       "    </tr>\n",
       "    <tr>\n",
       "      <td>5800</td>\n",
       "      <td>1038</td>\n",
       "      <td>589</td>\n",
       "    </tr>\n",
       "    <tr>\n",
       "      <td>5801</td>\n",
       "      <td>1038</td>\n",
       "      <td>819</td>\n",
       "    </tr>\n",
       "  </tbody>\n",
       "</table>\n",
       "<p>5802 rows × 2 columns</p>\n",
       "</div>"
      ],
      "text/plain": [
       "      node1  node2\n",
       "0         0    496\n",
       "1         0    499\n",
       "2         0    502\n",
       "3         0    504\n",
       "4         0    589\n",
       "...     ...    ...\n",
       "5797   1037    589\n",
       "5798   1037   1034\n",
       "5799   1038    249\n",
       "5800   1038    589\n",
       "5801   1038    819\n",
       "\n",
       "[5802 rows x 2 columns]"
      ]
     },
     "execution_count": 4,
     "metadata": {},
     "output_type": "execute_result"
    }
   ],
   "source": [
    "df"
   ]
  },
  {
   "cell_type": "code",
   "execution_count": 5,
   "metadata": {
    "ExecuteTime": {
     "end_time": "2019-11-08T21:26:47.289487Z",
     "start_time": "2019-11-08T21:26:47.220047Z"
    }
   },
   "outputs": [],
   "source": [
    "df = df.apply(lambda x: x.astype(str))\n",
    "G=nx.from_pandas_edgelist(df, 'node1', 'node2')"
   ]
  },
  {
   "cell_type": "code",
   "execution_count": 6,
   "metadata": {
    "ExecuteTime": {
     "end_time": "2019-11-08T21:26:55.675097Z",
     "start_time": "2019-11-08T21:26:55.664024Z"
    },
    "scrolled": false
   },
   "outputs": [
    {
     "name": "stdout",
     "output_type": "stream",
     "text": [
      "<class 'pandas.core.frame.DataFrame'>\n",
      "RangeIndex: 5802 entries, 0 to 5801\n",
      "Data columns (total 2 columns):\n",
      "node1    5802 non-null object\n",
      "node2    5802 non-null object\n",
      "dtypes: object(2)\n",
      "memory usage: 90.8+ KB\n"
     ]
    }
   ],
   "source": [
    "df.info()"
   ]
  },
  {
   "cell_type": "code",
   "execution_count": 15,
   "metadata": {
    "ExecuteTime": {
     "end_time": "2019-11-08T21:35:44.288473Z",
     "start_time": "2019-11-08T21:35:43.434362Z"
    }
   },
   "outputs": [
    {
     "data": {
      "text/html": [
       "<div>\n",
       "<style scoped>\n",
       "    .dataframe tbody tr th:only-of-type {\n",
       "        vertical-align: middle;\n",
       "    }\n",
       "\n",
       "    .dataframe tbody tr th {\n",
       "        vertical-align: top;\n",
       "    }\n",
       "\n",
       "    .dataframe thead th {\n",
       "        text-align: right;\n",
       "    }\n",
       "</style>\n",
       "<table border=\"1\" class=\"dataframe\">\n",
       "  <thead>\n",
       "    <tr style=\"text-align: right;\">\n",
       "      <th></th>\n",
       "      <th>Nodes</th>\n",
       "    </tr>\n",
       "    <tr>\n",
       "      <th>Coreness</th>\n",
       "      <th></th>\n",
       "    </tr>\n",
       "  </thead>\n",
       "  <tbody>\n",
       "    <tr>\n",
       "      <td>0.0</td>\n",
       "      <td>1035</td>\n",
       "    </tr>\n",
       "    <tr>\n",
       "      <td>1.0</td>\n",
       "      <td>4</td>\n",
       "    </tr>\n",
       "  </tbody>\n",
       "</table>\n",
       "</div>"
      ],
      "text/plain": [
       "          Nodes\n",
       "Coreness       \n",
       "0.0        1035\n",
       "1.0           4"
      ]
     },
     "execution_count": 15,
     "metadata": {},
     "output_type": "execute_result"
    }
   ],
   "source": [
    "be = cpa.BE()\n",
    "be.detect(G)\n",
    "c = be.get_pair_id()\n",
    "x = be.get_coreness()\n",
    "\n",
    "df_be = pd.DataFrame.from_dict(x, orient = 'index', columns = ['Coreness'])\n",
    "\n",
    "df_be.reset_index(inplace=True)\n",
    "df_be.rename(columns={'index': 'Nodes'}, inplace=True)\n",
    "\n",
    "df_be_Count = pd.DataFrame(df_be.groupby('Coreness')['Nodes'].count())\n",
    "\n",
    "df_be_Count"
   ]
  },
  {
   "cell_type": "code",
   "execution_count": 16,
   "metadata": {
    "ExecuteTime": {
     "end_time": "2019-11-08T21:36:27.215210Z",
     "start_time": "2019-11-08T21:36:26.470715Z"
    }
   },
   "outputs": [
    {
     "data": {
      "text/html": [
       "<div>\n",
       "<style scoped>\n",
       "    .dataframe tbody tr th:only-of-type {\n",
       "        vertical-align: middle;\n",
       "    }\n",
       "\n",
       "    .dataframe tbody tr th {\n",
       "        vertical-align: top;\n",
       "    }\n",
       "\n",
       "    .dataframe thead th {\n",
       "        text-align: right;\n",
       "    }\n",
       "</style>\n",
       "<table border=\"1\" class=\"dataframe\">\n",
       "  <thead>\n",
       "    <tr style=\"text-align: right;\">\n",
       "      <th></th>\n",
       "      <th>Nodes</th>\n",
       "    </tr>\n",
       "    <tr>\n",
       "      <th>Coreness</th>\n",
       "      <th></th>\n",
       "    </tr>\n",
       "  </thead>\n",
       "  <tbody>\n",
       "    <tr>\n",
       "      <td>0.0</td>\n",
       "      <td>1035</td>\n",
       "    </tr>\n",
       "    <tr>\n",
       "      <td>1.0</td>\n",
       "      <td>4</td>\n",
       "    </tr>\n",
       "  </tbody>\n",
       "</table>\n",
       "</div>"
      ],
      "text/plain": [
       "          Nodes\n",
       "Coreness       \n",
       "0.0        1035\n",
       "1.0           4"
      ]
     },
     "execution_count": 16,
     "metadata": {},
     "output_type": "execute_result"
    }
   ],
   "source": [
    "km = cpa.KM_ER() \n",
    "km.detect(G)\n",
    "c1 = be.get_pair_id()\n",
    "x1 = be.get_coreness()\n",
    "\n",
    "df_km = pd.DataFrame.from_dict(x1, orient = 'index', columns = ['Coreness'])\n",
    "df_km.reset_index(inplace=True)\n",
    "df_km.rename(columns={'index': 'Nodes'}, inplace=True)\n",
    "\n",
    "df_km_count = pd.DataFrame(df_km.groupby('Coreness')['Nodes'].count())\n",
    "\n",
    "df_km_count"
   ]
  },
  {
   "cell_type": "code",
   "execution_count": 17,
   "metadata": {
    "ExecuteTime": {
     "end_time": "2019-11-08T21:37:09.419814Z",
     "start_time": "2019-11-08T21:37:08.973869Z"
    }
   },
   "outputs": [
    {
     "data": {
      "text/html": [
       "<div>\n",
       "<style scoped>\n",
       "    .dataframe tbody tr th:only-of-type {\n",
       "        vertical-align: middle;\n",
       "    }\n",
       "\n",
       "    .dataframe tbody tr th {\n",
       "        vertical-align: top;\n",
       "    }\n",
       "\n",
       "    .dataframe thead th {\n",
       "        text-align: right;\n",
       "    }\n",
       "</style>\n",
       "<table border=\"1\" class=\"dataframe\">\n",
       "  <thead>\n",
       "    <tr style=\"text-align: right;\">\n",
       "      <th></th>\n",
       "      <th>Nodes</th>\n",
       "    </tr>\n",
       "    <tr>\n",
       "      <th>Coreness</th>\n",
       "      <th></th>\n",
       "    </tr>\n",
       "  </thead>\n",
       "  <tbody>\n",
       "    <tr>\n",
       "      <td>0.0</td>\n",
       "      <td>594</td>\n",
       "    </tr>\n",
       "    <tr>\n",
       "      <td>1.0</td>\n",
       "      <td>445</td>\n",
       "    </tr>\n",
       "  </tbody>\n",
       "</table>\n",
       "</div>"
      ],
      "text/plain": [
       "          Nodes\n",
       "Coreness       \n",
       "0.0         594\n",
       "1.0         445"
      ]
     },
     "execution_count": 17,
     "metadata": {},
     "output_type": "execute_result"
    }
   ],
   "source": [
    "lsc = cpa.LapSgnCore()\n",
    "lsc.detect(G)\n",
    "c3 = lsc.get_pair_id()\n",
    "x3 = lsc.get_coreness()\n",
    "\n",
    "df_lsc = pd.DataFrame.from_dict(x3, orient = 'index', columns = ['Coreness'])\n",
    "df_lsc.reset_index(inplace=True)\n",
    "df_lsc.rename(columns={'index': 'Nodes'}, inplace=True)\n",
    "\n",
    "df_lsc_count = pd.DataFrame(df_lsc.groupby('Coreness')['Nodes'].count())\n",
    "\n",
    "df_lsc_count"
   ]
  },
  {
   "cell_type": "code",
   "execution_count": 18,
   "metadata": {
    "ExecuteTime": {
     "end_time": "2019-11-08T21:37:31.765098Z",
     "start_time": "2019-11-08T21:37:30.260165Z"
    }
   },
   "outputs": [
    {
     "data": {
      "text/html": [
       "<div>\n",
       "<style scoped>\n",
       "    .dataframe tbody tr th:only-of-type {\n",
       "        vertical-align: middle;\n",
       "    }\n",
       "\n",
       "    .dataframe tbody tr th {\n",
       "        vertical-align: top;\n",
       "    }\n",
       "\n",
       "    .dataframe thead th {\n",
       "        text-align: right;\n",
       "    }\n",
       "</style>\n",
       "<table border=\"1\" class=\"dataframe\">\n",
       "  <thead>\n",
       "    <tr style=\"text-align: right;\">\n",
       "      <th></th>\n",
       "      <th>Nodes</th>\n",
       "    </tr>\n",
       "    <tr>\n",
       "      <th>Coreness</th>\n",
       "      <th></th>\n",
       "    </tr>\n",
       "  </thead>\n",
       "  <tbody>\n",
       "    <tr>\n",
       "      <td>0</td>\n",
       "      <td>935</td>\n",
       "    </tr>\n",
       "    <tr>\n",
       "      <td>1</td>\n",
       "      <td>104</td>\n",
       "    </tr>\n",
       "  </tbody>\n",
       "</table>\n",
       "</div>"
      ],
      "text/plain": [
       "          Nodes\n",
       "Coreness       \n",
       "0           935\n",
       "1           104"
      ]
     },
     "execution_count": 18,
     "metadata": {},
     "output_type": "execute_result"
    }
   ],
   "source": [
    "lrc = cpa.LowRankCore()\n",
    "lrc.detect(G)\n",
    "c2 = lrc.get_pair_id()\n",
    "x2 = lrc.get_coreness()\n",
    "\n",
    "df_lrc = pd.DataFrame.from_dict(x2, orient = 'index', columns = ['Coreness'])\n",
    "df_lrc.reset_index(inplace=True)\n",
    "df_lrc.rename(columns={'index': 'Nodes'}, inplace=True)\n",
    "\n",
    "df_lrc_Count = pd.DataFrame(df_lrc.groupby('Coreness')['Nodes'].count())\n",
    "\n",
    "df_lrc_Count"
   ]
  },
  {
   "cell_type": "code",
   "execution_count": 23,
   "metadata": {
    "ExecuteTime": {
     "end_time": "2019-11-08T21:53:08.098529Z",
     "start_time": "2019-11-08T21:53:07.827256Z"
    }
   },
   "outputs": [
    {
     "data": {
      "image/png": "[encoded data removed]",
      "text/plain": [
       "<Figure size 288x288 with 1 Axes>"
      ]
     },
     "metadata": {
      "needs_background": "light"
     },
     "output_type": "display_data"
    }
   ],
   "source": [
    "# params for the visualization\n",
    "c_n = 2\n",
    "c_pos = np.arange(c_n) \n",
    "width = 0.35         \n",
    "\n",
    "# creating framework for the figure\n",
    "fig = plt.figure(figsize=(4, 4))\n",
    "\n",
    "# populate the figure\n",
    "ax = fig.add_subplot(1, 1, 1)\n",
    "\n",
    "\n",
    "core = (445, 104)\n",
    "per = (594, 935)\n",
    "# plot the data\n",
    "ax.bar(c_pos, core, width, label='Core')\n",
    "ax.bar(c_pos, per, width, bottom=core,  label='Periphery')\n",
    "\n",
    "# axes labels\n",
    "ax.set_xlabel('Algorithm')\n",
    "ax.set_ylabel('Number of Node')\n",
    "\n",
    "# axes ticks\n",
    "ax.set_xticks((0, 1))\n",
    "ax.set_xticklabels(('Alg 1', 'Alg 2'))\n",
    "\n",
    "# legend\n",
    "ax.legend(loc='best')\n",
    "\n",
    "plt.show()\n"
   ]
  },
  {
   "cell_type": "code",
   "execution_count": null,
   "metadata": {},
   "outputs": [],
   "source": []
  }
 ],
 "metadata": {
  "kernelspec": {
   "display_name": "Python 3",
   "language": "python",
   "name": "python3"
  },
  "language_info": {
   "codemirror_mode": {
    "name": "ipython",
    "version": 3
   },
   "file_extension": ".py",
   "mimetype": "text/x-python",
   "name": "python",
   "nbconvert_exporter": "python",
   "pygments_lexer": "ipython3",
   "version": "3.7.3"
  },
  "toc": {
   "base_numbering": 1,
   "nav_menu": {},
   "number_sections": true,
   "sideBar": true,
   "skip_h1_title": false,
   "title_cell": "Table of Contents",
   "title_sidebar": "Contents",
   "toc_cell": false,
   "toc_position": {},
   "toc_section_display": true,
   "toc_window_display": false
  },
  "varInspector": {
   "cols": {
    "lenName": 16,
    "lenType": 16,
    "lenVar": 40
   },
   "kernels_config": {
    "python": {
     "delete_cmd_postfix": "",
     "delete_cmd_prefix": "del ",
     "library": "var_list.py",
     "varRefreshCmd": "print(var_dic_list())"
    },
    "r": {
     "delete_cmd_postfix": ") ",
     "delete_cmd_prefix": "rm(",
     "library": "var_list.r",
     "varRefreshCmd": "cat(var_dic_list()) "
    }
   },
   "types_to_exclude": [
    "module",
    "function",
    "builtin_function_or_method",
    "instance",
    "_Feature"
   ],
   "window_display": false
  }
 },
 "nbformat": 4,
 "nbformat_minor": 2
}
